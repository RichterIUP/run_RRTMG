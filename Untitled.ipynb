{
 "cells": [
  {
   "cell_type": "code",
   "execution_count": 1,
   "metadata": {},
   "outputs": [],
   "source": [
    "import os\n",
    "import netCDF4 as nc"
   ]
  },
  {
   "cell_type": "code",
   "execution_count": 25,
   "metadata": {},
   "outputs": [
    {
     "name": "stdout",
     "output_type": "stream",
     "text": [
      "['paths_rrtmg', 'keys_sw', 'keys_lw', 'atmosphere', 'IN_AER_RRTM', 'INPUT_RRTM_SW', 'RRTMG_in_CNET_20170601_000544_80.323247_7.866752_77.43035169801307.nc']\n"
     ]
    }
   ],
   "source": [
    "path = \"RRTMG_aerosols\"\n",
    "files = os.listdir(path)\n",
    "print(files)\n",
    "out = os.path.join(path, files[-1])"
   ]
  },
  {
   "cell_type": "code",
   "execution_count": 26,
   "metadata": {},
   "outputs": [
    {
     "name": "stdout",
     "output_type": "stream",
     "text": [
      "[176.2544 200.1689 201.5882 203.7013 205.4089 206.8367 208.2297 209.619\n",
      " 210.9843 212.2367 213.3841 214.5371 215.729  216.9234 218.1899 219.6093\n",
      " 221.2249 223.1147 225.3113 227.7256 230.2911 232.9289 235.2869 237.3836\n",
      " 239.1514 240.68   241.9924 243.1345 244.1708 245.1259 246.0295 246.9495\n",
      " 247.9219 248.9226 249.9298 250.9278 251.907  252.8633 253.7942 254.6955\n",
      " 255.5291 256.3626 257.1579 257.928  258.6879 259.4396 260.1786 260.8595\n",
      " 261.4059 261.8778 262.3338 262.7712 263.1934 263.2101 263.2599 263.3262\n",
      " 263.3758 263.4253 263.4747 263.5239 263.5729 264.4602 266.2105 268.1107\n",
      " 270.7515 273.0291 276.1523 278.2446 280.955  282.0844 283.0728 284.4414\n",
      " 285.5299 287.8734]\n"
     ]
    }
   ],
   "source": [
    "with nc.Dataset(out, \"r\") as f:\n",
    "    cwp = f.variables['CWP'][:]\n",
    "    flux_clear = f.variables['clear_sw_DOWNWARD FLUX'][:]\n",
    "    flux_all = f.variables['all_sw_DOWNWARD FLUX'][:]\n",
    "print(flux_clear)"
   ]
  }
 ],
 "metadata": {
  "kernelspec": {
   "display_name": "v2020.3 LAMOS (py3.7.8)",
   "language": "python",
   "name": "lamos_2020.3"
  },
  "language_info": {
   "codemirror_mode": {
    "name": "ipython",
    "version": 3
   },
   "file_extension": ".py",
   "mimetype": "text/x-python",
   "name": "python",
   "nbconvert_exporter": "python",
   "pygments_lexer": "ipython3",
   "version": "3.7.8"
  }
 },
 "nbformat": 4,
 "nbformat_minor": 4
}
